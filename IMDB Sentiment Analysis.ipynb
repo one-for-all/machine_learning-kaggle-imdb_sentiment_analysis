{
 "cells": [
  {
   "cell_type": "code",
   "execution_count": 31,
   "metadata": {},
   "outputs": [],
   "source": [
    "# Import libraries\n",
    "import pandas as pd\n",
    "from gensim.models import KeyedVectors\n",
    "from bs4 import BeautifulSoup\n",
    "import re\n",
    "from nltk.corpus import stopwords\n",
    "import nltk\n",
    "import random\n",
    "from collections import Counter\n",
    "import itertools\n",
    "import numpy as np\n",
    "from keras.models import Sequential, load_model\n",
    "from keras.layers.embeddings import Embedding\n",
    "from keras.layers import Dense, LSTM, Dropout\n",
    "from keras.preprocessing.sequence import pad_sequences\n",
    "import matplotlib.pyplot as plt\n",
    "from keras.regularizers import l2\n",
    "from keras import callbacks\n",
    "from sklearn.metrics import roc_auc_score\n",
    "%matplotlib inline"
   ]
  },
  {
   "cell_type": "code",
   "execution_count": 32,
   "metadata": {
    "collapsed": true
   },
   "outputs": [],
   "source": [
    "# Download data for nltk model (Only need to do once)\n",
    "# nltk.download('book')"
   ]
  },
  {
   "cell_type": "code",
   "execution_count": 33,
   "metadata": {
    "collapsed": true
   },
   "outputs": [],
   "source": [
    "# Keep reproducible results (Remove randomness between runs)\n",
    "import tensorflow as tf\n",
    "import os\n",
    "os.environ['PYTHONHASHSEED'] = '0'\n",
    "np.random.seed(42)\n",
    "random.seed(12345)\n",
    "session_conf = tf.ConfigProto(intra_op_parallelism_threads=1, inter_op_parallelism_threads=1)\n",
    "\n",
    "from keras import backend as K\n",
    "\n",
    "tf.set_random_seed(1234)\n",
    "\n",
    "sess = tf.Session(graph=tf.get_default_graph(), config=session_conf)\n",
    "K.set_session(sess)"
   ]
  },
  {
   "cell_type": "code",
   "execution_count": 34,
   "metadata": {
    "collapsed": true
   },
   "outputs": [],
   "source": [
    "# Load data\n",
    "train = pd.read_csv('data/labeledTrainData.tsv', header=0, \n",
    " delimiter=\"\\t\", quoting=3)\n",
    "test = pd.read_csv('data/testData.tsv', header=0, delimiter=\"\\t\", quoting=3)"
   ]
  },
  {
   "cell_type": "code",
   "execution_count": 35,
   "metadata": {},
   "outputs": [],
   "source": [
    "# Split Train and Validation Data\n",
    "VALIDATION_SPLIT = 0.1\n",
    "train_len = int(len(train)*(1-VALIDATION_SPLIT))\n",
    "train_train = train.iloc[:train_len]\n",
    "train_val = train.iloc[train_len:]"
   ]
  },
  {
   "cell_type": "code",
   "execution_count": 36,
   "metadata": {},
   "outputs": [
    {
     "name": "stdout",
     "output_type": "stream",
     "text": [
      "processed 2000 reviews.\n",
      "processed 4000 reviews.\n",
      "processed 6000 reviews.\n",
      "processed 8000 reviews.\n",
      "processed 10000 reviews.\n",
      "processed 12000 reviews.\n",
      "processed 14000 reviews.\n",
      "processed 16000 reviews.\n",
      "processed 18000 reviews.\n",
      "processed 20000 reviews.\n",
      "processed 22000 reviews.\n"
     ]
    }
   ],
   "source": [
    "# Tokenize training data\n",
    "def review_tokenized(review, remove_stopwords=False):\n",
    "    review_text = BeautifulSoup(review, 'lxml').get_text()\n",
    "    if len(review_text) >= 2 and review_text[0] == '\"' and review_text[-1] == '\"': # Remove openning and closing quotes\n",
    "        review_text = review_text[1:-1]\n",
    "    review_tokens = nltk.word_tokenize(review_text.lower())\n",
    "    if remove_stopwords:\n",
    "        stops = set(stopwords.words('english'))\n",
    "        review_tokens = [t for t in review_tokens if not t in stops]\n",
    "    return review_tokens\n",
    "\n",
    "def tokenFreqDist(token_list):\n",
    "    return nltk.FreqDist(itertools.chain(*token_list))\n",
    "\n",
    "def review_list_tokenized(reviews, remove_stopwords=False):\n",
    "    review_tokens = []\n",
    "    for i, r in zip(range(1, len(reviews)+1), reviews):\n",
    "        review_tokens.append(review_tokenized(r, remove_stopwords=remove_stopwords))\n",
    "        if i%2000 == 0:\n",
    "            print('processed {} reviews.'.format(i))\n",
    "    return review_tokens\n",
    "X_tokens_train = review_list_tokenized(train_train['review']) # list of tokenized reviews"
   ]
  },
  {
   "cell_type": "code",
   "execution_count": 37,
   "metadata": {},
   "outputs": [
    {
     "name": "stdout",
     "output_type": "stream",
     "text": [
      "getting frequency distribution.\n",
      "Done.\n"
     ]
    }
   ],
   "source": [
    "# Build token dicts (for vectorization)\n",
    "print('getting frequency distribution.')\n",
    "token_dist = tokenFreqDist(X_tokens_train) # token dict with freq as value\n",
    "print('Done.')\n",
    "vocab_size = 10000 \n",
    "vocab = token_dist.most_common(vocab_size-2)\n",
    "UNKNOWN_TOKEN = 'UNKNOWN_TOKEN'\n",
    "PADDING = 'PADDING'\n",
    "def create_token_dicts(vocab):\n",
    "    index_to_token = [x[0] for x in vocab]\n",
    "    index_to_token.append(UNKNOWN_TOKEN)\n",
    "    index_to_token.append(PADDING)\n",
    "    token_to_index = {x:i for i, x in enumerate(index_to_token)}\n",
    "    return (index_to_token, token_to_index)\n",
    "index_to_token, token_to_index = create_token_dicts(vocab)"
   ]
  },
  {
   "cell_type": "code",
   "execution_count": 38,
   "metadata": {
    "collapsed": true
   },
   "outputs": [],
   "source": [
    "# Substitue words not in vocab by UNKNOWN_TOKEN\n",
    "def prune_tokens(review_tokens):\n",
    "    tokens_pruned = []\n",
    "    for token in review_tokens:\n",
    "        tokens_pruned.append([w if w in token_to_index else UNKNOWN_TOKEN for w in token])\n",
    "    return tokens_pruned\n",
    "X_tokens_pruned_train = prune_tokens(X_tokens_train)"
   ]
  },
  {
   "cell_type": "code",
   "execution_count": 39,
   "metadata": {
    "collapsed": true
   },
   "outputs": [],
   "source": [
    "# Prepare final training data\n",
    "def vectorize_sentences(review_token):\n",
    "    # Returns a vector that represents a review\n",
    "    return np.asarray([token_to_index[x] for x in review_token])\n",
    "\n",
    "def vectorize_reviews(reviews_tokens):\n",
    "    # Returns a list of vectors where each number in the vector represents a word in the review\n",
    "    return [vectorize_sentences(s) for s in reviews_tokens]\n",
    "\n",
    "X_train = vectorize_reviews(X_tokens_pruned_train)"
   ]
  },
  {
   "cell_type": "code",
   "execution_count": 40,
   "metadata": {},
   "outputs": [
    {
     "data": {
      "image/png": "[encoded data removed]",
      "text/plain": [
       "<matplotlib.figure.Figure at 0x7f772320dac8>"
      ]
     },
     "metadata": {},
     "output_type": "display_data"
    }
   ],
   "source": [
    "# Plot a histogram of X_train sentence lengths to decide the length of reviews (for truncating and padding)\n",
    "lengths = list(map(lambda x: len(x), X_train))\n",
    "fig = plt.figure()\n",
    "_ = plt.hist(lengths, bins=20)"
   ]
  },
  {
   "cell_type": "code",
   "execution_count": 41,
   "metadata": {
    "collapsed": true
   },
   "outputs": [],
   "source": [
    "# Seems like a size of 300 will capture most of reviews in entirety\n",
    "MAX_REVIEW_SIZE = 300\n",
    "X_train = pad_sequences(X_train, maxlen=MAX_REVIEW_SIZE, value=token_to_index[PADDING], padding='pre', truncating='post')\n",
    "y_train = train_train['sentiment'].values.reshape(-1, 1)"
   ]
  },
  {
   "cell_type": "code",
   "execution_count": 42,
   "metadata": {},
   "outputs": [
    {
     "name": "stdout",
     "output_type": "stream",
     "text": [
      "(22500, 300)\n",
      "(22500, 1)\n"
     ]
    }
   ],
   "source": [
    "print(X_train.shape)\n",
    "print(y_train.shape)"
   ]
  },
  {
   "cell_type": "code",
   "execution_count": 43,
   "metadata": {},
   "outputs": [
    {
     "name": "stdout",
     "output_type": "stream",
     "text": [
      "processed 2000 reviews.\n"
     ]
    }
   ],
   "source": [
    "# Prepare validation data\n",
    "def process_X(reviews):\n",
    "    X = review_list_tokenized(reviews)\n",
    "    X = prune_tokens(X)\n",
    "    X = vectorize_reviews(X)\n",
    "    X = pad_sequences(X, maxlen=MAX_REVIEW_SIZE, value=token_to_index[PADDING], padding='pre', truncating='post')\n",
    "    return X\n",
    "X_val = process_X(train_val['review'])\n",
    "y_val = train_val['sentiment'].values.reshape(-1, 1)"
   ]
  },
  {
   "cell_type": "code",
   "execution_count": 46,
   "metadata": {
    "scrolled": true
   },
   "outputs": [
    {
     "name": "stdout",
     "output_type": "stream",
     "text": [
      "_________________________________________________________________\n",
      "Layer (type)                 Output Shape              Param #   \n",
      "=================================================================\n",
      "embedding_1 (Embedding)      (None, 300, 16)           160000    \n",
      "_________________________________________________________________\n",
      "lstm_2 (LSTM)                (None, 4)                 336       \n",
      "_________________________________________________________________\n",
      "dropout_3 (Dropout)          (None, 4)                 0         \n",
      "_________________________________________________________________\n",
      "dense_3 (Dense)              (None, 16)                80        \n",
      "_________________________________________________________________\n",
      "dropout_4 (Dropout)          (None, 16)                0         \n",
      "_________________________________________________________________\n",
      "dense_4 (Dense)              (None, 1)                 17        \n",
      "=================================================================\n",
      "Total params: 160,433\n",
      "Trainable params: 160,433\n",
      "Non-trainable params: 0\n",
      "_________________________________________________________________\n"
     ]
    }
   ],
   "source": [
    "# Build RNN model for sentiment analysis\n",
    "model = Sequential()\n",
    "model.add(Embedding(input_dim=vocab_size, output_dim=16, input_length=X_train.shape[1]))\n",
    "model.add(LSTM(4, return_sequences=False, kernel_regularizer=l2(0.01)))\n",
    "model.add(Dropout(0.25))\n",
    "model.add(Dense(16, activation='relu'))\n",
    "model.add(Dropout(0.25))\n",
    "model.add(Dense(1, activation='sigmoid'))\n",
    "model.summary()\n",
    "model.compile(loss='binary_crossentropy', optimizer='RMSProp', metrics=['accuracy'])\n",
    "# Add checkpoint to save the 'best' model\n",
    "fname = 'model/imdb_sentiment_analysis.h5'\n",
    "cbks = [callbacks.ModelCheckpoint(filepath=fname, monitor='val_loss', save_best_only=True)]"
   ]
  },
  {
   "cell_type": "code",
   "execution_count": 47,
   "metadata": {},
   "outputs": [
    {
     "name": "stdout",
     "output_type": "stream",
     "text": [
      "Train on 22500 samples, validate on 2500 samples\n",
      "Epoch 1/5\n",
      "22500/22500 [==============================] - 119s - loss: 0.5883 - acc: 0.7250 - val_loss: 0.3881 - val_acc: 0.8460\n",
      "Epoch 2/5\n",
      "22500/22500 [==============================] - 119s - loss: 0.3644 - acc: 0.8652 - val_loss: 0.3315 - val_acc: 0.8696\n",
      "Epoch 3/5\n",
      "22500/22500 [==============================] - 119s - loss: 0.3002 - acc: 0.8941 - val_loss: 0.3423 - val_acc: 0.8640\n",
      "Epoch 4/5\n",
      "22500/22500 [==============================] - 118s - loss: 0.2649 - acc: 0.9081 - val_loss: 0.3137 - val_acc: 0.8740\n",
      "Epoch 5/5\n",
      "22500/22500 [==============================] - 119s - loss: 0.2448 - acc: 0.9174 - val_loss: 0.3817 - val_acc: 0.8644\n",
      "Takes 599.3994255065918s\n"
     ]
    }
   ],
   "source": [
    "import time\n",
    "start = time.time()\n",
    "history = model.fit(X_train, y_train, batch_size=32, epochs=5, verbose=1, \n",
    "                    shuffle=True, validation_data=(X_val, y_val), callbacks=cbks)\n",
    "end = time.time()\n",
    "print('Takes {}s'.format(end-start))"
   ]
  },
  {
   "cell_type": "code",
   "execution_count": 48,
   "metadata": {},
   "outputs": [
    {
     "data": {
      "image/png": "[encoded data removed]",
      "text/plain": [
       "<matplotlib.figure.Figure at 0x7f7722031320>"
      ]
     },
     "metadata": {},
     "output_type": "display_data"
    }
   ],
   "source": [
    "# Plot trends for insights\n",
    "def plot_history(history):\n",
    "    history_data = history.history\n",
    "    fig, axes = plt.subplots(2, 2)\n",
    "    fig.tight_layout()\n",
    "    for i, key in enumerate(history_data.keys()):\n",
    "        ax = plt.subplot(2, 2, i+1)\n",
    "        plt.plot(history_data[key])\n",
    "        ax.set_title(key)\n",
    "plot_history(history)"
   ]
  },
  {
   "cell_type": "code",
   "execution_count": 57,
   "metadata": {},
   "outputs": [
    {
     "name": "stdout",
     "output_type": "stream",
     "text": [
      "2500/2500 [==============================] - 1s     \n",
      "0.878707877969\n"
     ]
    }
   ],
   "source": [
    "# Compute Area under ROC score\n",
    "predictions = model.predict_classes(X_val)\n",
    "print(roc_auc_score(y_val, predictions))"
   ]
  },
  {
   "cell_type": "code",
   "execution_count": 58,
   "metadata": {
    "collapsed": true
   },
   "outputs": [],
   "source": [
    "histories = []\n",
    "histories.append(history)"
   ]
  },
  {
   "cell_type": "code",
   "execution_count": 59,
   "metadata": {},
   "outputs": [
    {
     "name": "stdout",
     "output_type": "stream",
     "text": [
      "Train on 22500 samples, validate on 2500 samples\n",
      "Epoch 1/5\n",
      "22500/22500 [==============================] - 119s - loss: 0.2252 - acc: 0.9252 - val_loss: 0.3522 - val_acc: 0.8604\n",
      "Epoch 2/5\n",
      "22500/22500 [==============================] - 118s - loss: 0.2177 - acc: 0.9265 - val_loss: 0.6044 - val_acc: 0.8108\n",
      "Epoch 3/5\n",
      "22500/22500 [==============================] - 119s - loss: 0.2080 - acc: 0.9307 - val_loss: 0.3194 - val_acc: 0.8824\n",
      "Epoch 4/5\n",
      "22500/22500 [==============================] - 118s - loss: 0.2060 - acc: 0.9323 - val_loss: 0.3099 - val_acc: 0.8800\n",
      "Epoch 5/5\n",
      "22500/22500 [==============================] - 118s - loss: 0.1986 - acc: 0.9366 - val_loss: 0.3387 - val_acc: 0.8800\n"
     ]
    }
   ],
   "source": [
    "# Train for longer\n",
    "history = model.fit(X_train, y_train, batch_size=32, epochs=5, verbose=1, \n",
    "                    shuffle=True, validation_data=(X_val, y_val), callbacks=cbks)"
   ]
  },
  {
   "cell_type": "code",
   "execution_count": 60,
   "metadata": {},
   "outputs": [
    {
     "data": {
      "image/png": "[encoded data removed]",
      "text/plain": [
       "<matplotlib.figure.Figure at 0x7f773a060550>"
      ]
     },
     "metadata": {},
     "output_type": "display_data"
    }
   ],
   "source": [
    "plot_history(history)\n",
    "histories.append(history)"
   ]
  },
  {
   "cell_type": "code",
   "execution_count": 61,
   "metadata": {
    "collapsed": true
   },
   "outputs": [],
   "source": [
    "# Training longer seems not to do more good, so let's stop here\n",
    "# To further squeeze performance, could try to increase MAX_REVIEW_SIZE to cover them"
   ]
  },
  {
   "cell_type": "code",
   "execution_count": 62,
   "metadata": {},
   "outputs": [
    {
     "name": "stdout",
     "output_type": "stream",
     "text": [
      "2496/2500 [============================>.] - ETA: 0s[0.3099104891061783, 0.88]\n",
      "2500/2500 [==============================] - 2s     \n",
      "0.880019251397\n"
     ]
    }
   ],
   "source": [
    "# Load best model so far check with validation\n",
    "fname = 'model/imdb_sentiment_analysis.h5'\n",
    "model = load_model(fname)\n",
    "print(model.evaluate(X_val, y_val))\n",
    "# Compute Area under ROC score\n",
    "preds = model.predict_classes(X_val)\n",
    "print(roc_auc_score(y_val, preds))"
   ]
  },
  {
   "cell_type": "code",
   "execution_count": 66,
   "metadata": {},
   "outputs": [
    {
     "name": "stdout",
     "output_type": "stream",
     "text": [
      "processed 2000 reviews.\n",
      "processed 4000 reviews.\n",
      "processed 6000 reviews.\n",
      "processed 8000 reviews.\n",
      "processed 10000 reviews.\n",
      "processed 12000 reviews.\n",
      "processed 14000 reviews.\n",
      "processed 16000 reviews.\n",
      "processed 18000 reviews.\n",
      "processed 20000 reviews.\n",
      "processed 22000 reviews.\n",
      "processed 24000 reviews.\n",
      "24960/25000 [============================>.] - ETA: 0s"
     ]
    }
   ],
   "source": [
    "# Make predictions and save them\n",
    "X_test = process_X(test['review'])\n",
    "preds = model.predict_classes(X_test, verbose=1)\n",
    "pd.DataFrame({\n",
    "    'id': test['id'].str.replace('\"', ''),\n",
    "    'sentiment': preds.reshape(-1,)}).to_csv('submission.csv', index=False, header=True)"
   ]
  },
  {
   "cell_type": "code",
   "execution_count": 68,
   "metadata": {},
   "outputs": [
    {
     "data": {
      "text/html": [
       "<div>\n",
       "<style>\n",
       "    .dataframe thead tr:only-child th {\n",
       "        text-align: right;\n",
       "    }\n",
       "\n",
       "    .dataframe thead th {\n",
       "        text-align: left;\n",
       "    }\n",
       "\n",
       "    .dataframe tbody tr th {\n",
       "        vertical-align: top;\n",
       "    }\n",
       "</style>\n",
       "<table border=\"1\" class=\"dataframe\">\n",
       "  <thead>\n",
       "    <tr style=\"text-align: right;\">\n",
       "      <th></th>\n",
       "      <th>id</th>\n",
       "      <th>sentiment</th>\n",
       "    </tr>\n",
       "  </thead>\n",
       "  <tbody>\n",
       "    <tr>\n",
       "      <th>0</th>\n",
       "      <td>12311_10</td>\n",
       "      <td>1</td>\n",
       "    </tr>\n",
       "    <tr>\n",
       "      <th>1</th>\n",
       "      <td>8348_2</td>\n",
       "      <td>0</td>\n",
       "    </tr>\n",
       "    <tr>\n",
       "      <th>2</th>\n",
       "      <td>5828_4</td>\n",
       "      <td>0</td>\n",
       "    </tr>\n",
       "    <tr>\n",
       "      <th>3</th>\n",
       "      <td>7186_2</td>\n",
       "      <td>0</td>\n",
       "    </tr>\n",
       "    <tr>\n",
       "      <th>4</th>\n",
       "      <td>12128_7</td>\n",
       "      <td>1</td>\n",
       "    </tr>\n",
       "  </tbody>\n",
       "</table>\n",
       "</div>"
      ],
      "text/plain": [
       "         id  sentiment\n",
       "0  12311_10          1\n",
       "1    8348_2          0\n",
       "2    5828_4          0\n",
       "3    7186_2          0\n",
       "4   12128_7          1"
      ]
     },
     "execution_count": 68,
     "metadata": {},
     "output_type": "execute_result"
    }
   ],
   "source": [
    "# Check output\n",
    "submission = pd.read_csv('submission.csv')\n",
    "submission.head(5)"
   ]
  },
  {
   "cell_type": "code",
   "execution_count": 8,
   "metadata": {},
   "outputs": [
    {
     "data": {
      "text/plain": [
       "6744"
      ]
     },
     "execution_count": 8,
     "metadata": {},
     "output_type": "execute_result"
    }
   ],
   "source": [
    "# Collect unused memory\n",
    "import gc; gc.collect()"
   ]
  },
  {
   "cell_type": "markdown",
   "metadata": {},
   "source": [
    "### Training seems to be overfitting; Try word2vec\n",
    "From below we will use pretrained word2vec instead of the custom embedding layer, and see how it goes."
   ]
  },
  {
   "cell_type": "code",
   "execution_count": 9,
   "metadata": {
    "collapsed": true
   },
   "outputs": [],
   "source": [
    "# Load Word2Vec\n",
    "word2vec = KeyedVectors.load_word2vec_format('word2vec/GoogleNews-vectors-negative300.bin', binary=True)"
   ]
  },
  {
   "cell_type": "code",
   "execution_count": 11,
   "metadata": {},
   "outputs": [
    {
     "name": "stdout",
     "output_type": "stream",
     "text": [
      "[('kings', 0.7138046026229858), ('queen', 0.6510956883430481), ('monarch', 0.6413194537162781), ('crown_prince', 0.6204220056533813), ('prince', 0.6159993410110474), ('sultan', 0.5864822864532471), ('ruler', 0.5797567367553711), ('princes', 0.5646552443504333), ('Prince_Paras', 0.543294370174408), ('throne', 0.5422104597091675)]\n",
      "(300,)\n"
     ]
    }
   ],
   "source": [
    "# Check\n",
    "print(word2vec.wv.most_similar('king'))\n",
    "print(word2vec.wv.word_vec('king').shape)"
   ]
  },
  {
   "cell_type": "code",
   "execution_count": 12,
   "metadata": {},
   "outputs": [
    {
     "name": "stdout",
     "output_type": "stream",
     "text": [
      "#Words in our original vocab, but not in word2vec: 909\n"
     ]
    }
   ],
   "source": [
    "# Find how many words in our vocab are not included in word2vec\n",
    "not_included = set()\n",
    "for word in vocab:\n",
    "    if word[0] not in word2vec.wv.vocab:\n",
    "        not_included.add(word)\n",
    "print('#Words in our original vocab, but not in word2vec: {}'.format(len(not_included)))"
   ]
  },
  {
   "cell_type": "code",
   "execution_count": 10,
   "metadata": {
    "collapsed": true
   },
   "outputs": [],
   "source": [
    "# Remove words that are not word2vec from vocab\n",
    "vocab_reduced = []\n",
    "for word in vocab:\n",
    "    if word[0] in word2vec.wv.vocab:\n",
    "        vocab_reduced.append(word)"
   ]
  },
  {
   "cell_type": "code",
   "execution_count": 14,
   "metadata": {},
   "outputs": [
    {
     "data": {
      "text/plain": [
       "[('slapped', 43), (\"'re\", 3377)]"
      ]
     },
     "execution_count": 14,
     "metadata": {},
     "output_type": "execute_result"
    }
   ],
   "source": [
    "# Sampling kept words to get an idea of its content\n",
    "random.sample(vocab_reduced, 2)"
   ]
  },
  {
   "cell_type": "code",
   "execution_count": 11,
   "metadata": {},
   "outputs": [
    {
     "name": "stdout",
     "output_type": "stream",
     "text": [
      "processed 5000 reviews\n",
      "processed 10000 reviews\n",
      "processed 15000 reviews\n",
      "processed 20000 reviews\n"
     ]
    }
   ],
   "source": [
    "WORD2VEC_LEN = 300\n",
    "def convert_word_to_vec(word):\n",
    "    if word in word2vec.wv:\n",
    "        return word2vec.wv[word]\n",
    "    else:\n",
    "        return np.zeros((WORD2VEC_LEN,))\n",
    "    \n",
    "def convert_review_tokens_to_matrices(review_tokens):\n",
    "    review_vecs = []\n",
    "    for i, r in zip(range(1, len(review_tokens)+1), review_tokens):\n",
    "        vec = np.asarray([convert_word_to_vec(w) for w in r])\n",
    "        assert vec.shape[1] == WORD2VEC_LEN\n",
    "        review_vecs.append(vec)\n",
    "        if i%5000 == 0:\n",
    "            print('processed {} reviews'.format(i))\n",
    "    return review_vecs\n",
    "    \n",
    "X_tokens_matrices_train = convert_review_tokens_to_matrices(X_tokens_train)"
   ]
  },
  {
   "cell_type": "code",
   "execution_count": 12,
   "metadata": {},
   "outputs": [
    {
     "data": {
      "text/plain": [
       "302"
      ]
     },
     "execution_count": 12,
     "metadata": {},
     "output_type": "execute_result"
    }
   ],
   "source": [
    "# Collect unused memory\n",
    "import gc; gc.collect()"
   ]
  },
  {
   "cell_type": "code",
   "execution_count": 13,
   "metadata": {},
   "outputs": [
    {
     "name": "stdout",
     "output_type": "stream",
     "text": [
      "processed 0 reviews\n",
      "processed 5000 reviews\n",
      "processed 10000 reviews\n",
      "processed 15000 reviews\n",
      "processed 20000 reviews\n"
     ]
    }
   ],
   "source": [
    "# Convert from a list of matrices to 3-dim matrices by padding and truncating (in order to feed in to RNN)\n",
    "MAX_REVIEW_SIZE = 300\n",
    "def truncate_and_pad(review_matrices, length):\n",
    "    for i, matrix in enumerate(review_matrices):\n",
    "        matrix = matrix[:length]\n",
    "        if len(matrix) < length:\n",
    "            height = length-matrix.shape[0]\n",
    "            width = matrix.shape[1]\n",
    "            matrix = np.concatenate((matrix, np.zeros((height, width))), axis=0)\n",
    "            assert matrix.shape == (length, WORD2VEC_LEN)\n",
    "        review_matrices[i] = matrix\n",
    "        if i%5000 == 0:\n",
    "            print('processed {} reviews'.format(i))\n",
    "    review_matrices = np.asarray(review_matrices)\n",
    "    assert review_matrices[0].shape == (length, WORD2VEC_LEN)\n",
    "    return review_matrices\n",
    "X_train = truncate_and_pad(X_tokens_matrices_train, length=MAX_REVIEW_SIZE)"
   ]
  },
  {
   "cell_type": "code",
   "execution_count": 14,
   "metadata": {},
   "outputs": [
    {
     "name": "stdout",
     "output_type": "stream",
     "text": [
      "(22500, 300, 300)\n"
     ]
    }
   ],
   "source": [
    "print(X_train.shape)"
   ]
  },
  {
   "cell_type": "markdown",
   "metadata": {},
   "source": [
    "#### Notes on training data size\n",
    "* Training data takes a huge amount of memory. (barely fits in a 52GB memory machine)\n",
    "* Could try to load training data in batches if it does not fit into memory in entirety."
   ]
  },
  {
   "cell_type": "code",
   "execution_count": 15,
   "metadata": {},
   "outputs": [
    {
     "name": "stdout",
     "output_type": "stream",
     "text": [
      "processed 2000 reviews.\n",
      "processed 0 reviews\n"
     ]
    }
   ],
   "source": [
    "# Prepare Validation data\n",
    "X_tokens_val = review_list_tokenized(train_val['review'])\n",
    "X_val = convert_review_tokens_to_matrices(X_tokens_val)\n",
    "X_val = truncate_and_pad(X_val, length=MAX_REVIEW_SIZE)"
   ]
  },
  {
   "cell_type": "code",
   "execution_count": 23,
   "metadata": {},
   "outputs": [
    {
     "name": "stdout",
     "output_type": "stream",
     "text": [
      "(11250, 300, 300)\n"
     ]
    }
   ],
   "source": [
    "print(X_train.shape)"
   ]
  },
  {
   "cell_type": "code",
   "execution_count": 16,
   "metadata": {},
   "outputs": [],
   "source": [
    "# Check conversion by word2vec success\n",
    "def check_word2vec(X, tokens):\n",
    "    i = random.randint(0, len(tokens)-1)\n",
    "    j = random.randint(0, len(tokens[i])-1)\n",
    "    j = min(j, MAX_REVIEW_SIZE)\n",
    "    token = tokens[i][j]\n",
    "    if token in word2vec.wv:\n",
    "        compare = word2vec.wv[token]\n",
    "    else:\n",
    "        compare = np.zeros((WORD2VEC_LEN,))\n",
    "    diff = X[i][j] - compare\n",
    "    assert np.linalg.norm(diff) < 0.001\n",
    "check_word2vec(X_train, X_tokens_train)\n",
    "check_word2vec(X_val, X_tokens_val)\n",
    "# diff = X_val[2][0] - word2vec.wv[val_tokens[2][0]]\n",
    "# assert np.linalg.norm(diff) < 0.001"
   ]
  },
  {
   "cell_type": "code",
   "execution_count": 17,
   "metadata": {
    "collapsed": true
   },
   "outputs": [],
   "source": [
    "# Prepare y data for train and validation\n",
    "y_train = train_train['sentiment'].values.reshape(-1, 1)\n",
    "y_val = train_val['sentiment'].values.reshape(-1, 1)"
   ]
  },
  {
   "cell_type": "code",
   "execution_count": 18,
   "metadata": {},
   "outputs": [
    {
     "name": "stdout",
     "output_type": "stream",
     "text": [
      "_________________________________________________________________\n",
      "Layer (type)                 Output Shape              Param #   \n",
      "=================================================================\n",
      "lstm_1 (LSTM)                (None, 16)                20288     \n",
      "_________________________________________________________________\n",
      "dropout_1 (Dropout)          (None, 16)                0         \n",
      "_________________________________________________________________\n",
      "dense_1 (Dense)              (None, 16)                272       \n",
      "_________________________________________________________________\n",
      "dropout_2 (Dropout)          (None, 16)                0         \n",
      "_________________________________________________________________\n",
      "dense_2 (Dense)              (None, 1)                 17        \n",
      "=================================================================\n",
      "Total params: 20,577\n",
      "Trainable params: 20,577\n",
      "Non-trainable params: 0\n",
      "_________________________________________________________________\n"
     ]
    }
   ],
   "source": [
    "# Build RNN model for sentiment analysis\n",
    "model = Sequential()\n",
    "model.add(LSTM(16, return_sequences=False, kernel_regularizer=l2(0.01), input_shape=(MAX_REVIEW_SIZE, WORD2VEC_LEN)))\n",
    "model.add(Dropout(0.25))\n",
    "model.add(Dense(16, activation='relu'))\n",
    "model.add(Dropout(0.25))\n",
    "model.add(Dense(1, activation='sigmoid'))\n",
    "model.summary()\n",
    "model.compile(loss='binary_crossentropy', optimizer='RMSProp', metrics=['accuracy'])\n",
    "fname = 'model/imdb_sentiment_analysis_word2vec.h5'\n",
    "cbks = [callbacks.ModelCheckpoint(filepath=fname, monitor='val_loss', save_best_only=True)]"
   ]
  },
  {
   "cell_type": "code",
   "execution_count": 19,
   "metadata": {},
   "outputs": [
    {
     "name": "stdout",
     "output_type": "stream",
     "text": [
      "Train on 22500 samples, validate on 2500 samples\n",
      "Epoch 1/5\n",
      "22500/22500 [==============================] - 217s - loss: 0.7357 - acc: 0.5283 - val_loss: 0.6724 - val_acc: 0.6296\n",
      "Epoch 2/5\n",
      "22500/22500 [==============================] - 214s - loss: 0.6574 - acc: 0.6531 - val_loss: 0.6273 - val_acc: 0.6708\n",
      "Epoch 3/5\n",
      "22500/22500 [==============================] - 213s - loss: 0.6248 - acc: 0.7120 - val_loss: 0.7882 - val_acc: 0.6308\n",
      "Epoch 4/5\n",
      "22500/22500 [==============================] - 213s - loss: 0.6253 - acc: 0.7234 - val_loss: 0.7352 - val_acc: 0.6892\n",
      "Epoch 5/5\n",
      "22500/22500 [==============================] - 212s - loss: 0.6170 - acc: 0.7309 - val_loss: 0.5170 - val_acc: 0.8080\n",
      "Takes 1072.6834962368011s\n"
     ]
    }
   ],
   "source": [
    "import time\n",
    "start = time.time()\n",
    "history = model.fit(X_train, y_train, batch_size=32, epochs=5, verbose=1,\n",
    "                    shuffle=True, validation_data=(X_val, y_val), callbacks=cbks)\n",
    "end = time.time()\n",
    "print('Takes {}s'.format(end-start))"
   ]
  },
  {
   "cell_type": "code",
   "execution_count": 21,
   "metadata": {},
   "outputs": [
    {
     "data": {
      "image/png": "[encoded data removed]",
      "text/plain": [
       "<matplotlib.figure.Figure at 0x7f773c788940>"
      ]
     },
     "metadata": {},
     "output_type": "display_data"
    }
   ],
   "source": [
    "# Plot trends for insights\n",
    "plot_history(history)\n",
    "histories = []\n",
    "histories.append(history)"
   ]
  },
  {
   "cell_type": "code",
   "execution_count": 22,
   "metadata": {},
   "outputs": [
    {
     "name": "stdout",
     "output_type": "stream",
     "text": [
      "Train on 22500 samples, validate on 2500 samples\n",
      "Epoch 1/5\n",
      "22500/22500 [==============================] - 214s - loss: 0.5703 - acc: 0.7654 - val_loss: 0.8669 - val_acc: 0.6592\n",
      "Epoch 2/5\n",
      "22500/22500 [==============================] - 215s - loss: 0.5660 - acc: 0.7556 - val_loss: 0.8346 - val_acc: 0.5632\n",
      "Epoch 3/5\n",
      "22500/22500 [==============================] - 216s - loss: 0.5830 - acc: 0.7544 - val_loss: 0.6304 - val_acc: 0.7084\n",
      "Epoch 4/5\n",
      "22500/22500 [==============================] - 216s - loss: 0.5741 - acc: 0.7647 - val_loss: 0.5771 - val_acc: 0.7772\n",
      "Epoch 5/5\n",
      "22500/22500 [==============================] - 216s - loss: 0.5932 - acc: 0.7527 - val_loss: 0.5209 - val_acc: 0.7912\n"
     ]
    }
   ],
   "source": [
    "# Train for longer and see how it goes\n",
    "history = model.fit(X_train, y_train, batch_size=32, epochs=5, verbose=1, \n",
    "                    shuffle=True, validation_data=(X_val, y_val), callbacks=cbks)"
   ]
  },
  {
   "cell_type": "code",
   "execution_count": 23,
   "metadata": {},
   "outputs": [
    {
     "data": {
      "image/png": "[encoded data removed]",
      "text/plain": [
       "<matplotlib.figure.Figure at 0x7f7b8e8267b8>"
      ]
     },
     "metadata": {},
     "output_type": "display_data"
    }
   ],
   "source": [
    "plot_history(history)\n",
    "histories.append(history)"
   ]
  },
  {
   "cell_type": "code",
   "execution_count": 24,
   "metadata": {},
   "outputs": [
    {
     "name": "stdout",
     "output_type": "stream",
     "text": [
      "Train on 22500 samples, validate on 2500 samples\n",
      "Epoch 1/5\n",
      "22500/22500 [==============================] - 217s - loss: 0.5713 - acc: 0.7696 - val_loss: 0.6757 - val_acc: 0.6692\n",
      "Epoch 2/5\n",
      "22500/22500 [==============================] - 216s - loss: 0.5927 - acc: 0.7412 - val_loss: 0.5196 - val_acc: 0.7840\n",
      "Epoch 3/5\n",
      "22500/22500 [==============================] - 225s - loss: 0.5763 - acc: 0.7548 - val_loss: 0.5952 - val_acc: 0.7456\n",
      "Epoch 4/5\n",
      "22500/22500 [==============================] - 242s - loss: 0.6050 - acc: 0.7404 - val_loss: 0.6436 - val_acc: 0.7156\n",
      "Epoch 5/5\n",
      "22500/22500 [==============================] - 240s - loss: 0.6161 - acc: 0.7211 - val_loss: 0.5111 - val_acc: 0.7860\n"
     ]
    }
   ],
   "source": [
    "# Train for longer and see how it goes\n",
    "history = model.fit(X_train, y_train, batch_size=32, epochs=5, verbose=1, \n",
    "                    shuffle=True, validation_data=(X_val, y_val), callbacks=cbks)"
   ]
  },
  {
   "cell_type": "code",
   "execution_count": 27,
   "metadata": {},
   "outputs": [
    {
     "data": {
      "image/png": "[encoded data removed]",
      "text/plain": [
       "<matplotlib.figure.Figure at 0x7f77391fcc88>"
      ]
     },
     "metadata": {},
     "output_type": "display_data"
    }
   ],
   "source": [
    "plot_history(history)\n",
    "histories.append(history)"
   ]
  },
  {
   "cell_type": "markdown",
   "metadata": {
    "collapsed": true
   },
   "source": [
    "#### Notes on using word2vec embedding\n",
    "* The result of using word2vec as word embedding seems to be flunctuating and not working well (yet).\n",
    "* I think the reason may be that the vector dim of 300 might be too large while the training set is too small to generalize it well."
   ]
  }
 ],
 "metadata": {
  "kernelspec": {
   "display_name": "imdb_sentiment_analysis",
   "language": "python",
   "name": "imdb_sentiment_analysis"
  },
  "language_info": {
   "codemirror_mode": {
    "name": "ipython",
    "version": 3
   },
   "file_extension": ".py",
   "mimetype": "text/x-python",
   "name": "python",
   "nbconvert_exporter": "python",
   "pygments_lexer": "ipython3",
   "version": "3.5.2"
  },
  "notify_time": "5"
 },
 "nbformat": 4,
 "nbformat_minor": 2
}
